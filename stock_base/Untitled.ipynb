{
 "cells": [
  {
   "cell_type": "code",
   "execution_count": 2,
   "metadata": {},
   "outputs": [],
   "source": [
    "from transitions.extensions import GraphMachine\n",
    "\n",
    "# from utils import*\n",
    "\n",
    "fsm_image_url = \"https://i.imgur.com/A7LYm3K.jpg\"\n",
    "\n",
    "\n",
    "class TocMachine(GraphMachine):\n",
    "    def __init__(self, **machine_configs):\n",
    "        self.machine = GraphMachine(model=self, **machine_configs)\n",
    "        self.current_model=\"\"\n",
    "    def going_to_state_fsm(self,event):\n",
    "        text = event.message.text\n",
    "        return text.lower() == \"fsm\"\n",
    "    def going_to_state_stock(self,event):\n",
    "        text = event.message.text\n",
    "        return text.lower() == \"stock\"\n",
    "    def going_to_state_Tw50(self,event):\n",
    "        text = event.message.text\n",
    "        return text.lower() == \"tw50\"\n",
    "    def going_to_state_RL(self,event):\n",
    "        text = event.message.text\n",
    "        return text.lower() == \"rl\"\n",
    "\n",
    "    def going_to_state_performance(self,event):\n",
    "        text = event.message.text\n",
    "        return text.lower() == \"performance\"\n",
    "    def going_to_state_intro(self,event):\n",
    "        text = event.message.text\n",
    "        return text.lower() == \"intro\"\n",
    "    def going_to_state_stock_list(self,event):\n",
    "        text = event.message.text\n",
    "        return text.lower() == \"stock_list\"\n",
    "\n",
    "\n",
    "    def back_to_pre_state(self, event):\n",
    "        text = event.message.text\n",
    "        return text.lower() == \"back\"\n",
    "    def back_to_rl(self,event):\n",
    "        text = event.message.text\n",
    "        return text.lower() == \"back_rl\"\n",
    "    def back_to_tw(self, event):\n",
    "        text = event.message.text\n",
    "        return text.lower() == \"back_tw\"\n",
    "\n",
    "\n",
    "    def on_enter_state_fsm(self,event):\n",
    "        print(\"I'm entering state_fsm\")\n",
    "        send_image_message(event.reply_token,fsm_image_url)\n",
    "        self.go_back()\n",
    "    def on_enter_state_stock(self,event):\n",
    "        print(\"I'm entering state_stock\")\n",
    "        reply_token = event.reply_token\n",
    "        send_tempelate_message_choose_model(reply_token)\n",
    "        # send_text_message(reply_token, \"Eneter stock state\")\n",
    "\n",
    "\n",
    "    def on_enter_state_Tw50(self,event):\n",
    "        print(\"I'm entering Tw50\")\n",
    "        self.current_model=\"Tw50\"\n",
    "        reply_token = event.reply_token\n",
    "        send_tempelate_message_model_info(reply_token, \"ML Tw50 ensemble method\")\n",
    "    def on_enter_state_RL(self,event):\n",
    "        print(\"I'm entering RL\")\n",
    "        self.current_model = \"RL\"\n",
    "        reply_token = event.reply_token\n",
    "        send_tempelate_message_model_info(reply_token, \"Reinforcement method\")\n",
    "\n",
    "\n",
    "\n",
    "    def on_enter_state_performance(self,event):\n",
    "        print(\"I'm entering performance\",self.current_model)\n",
    "        reply_token = event.reply_token\n",
    "        send_text_message(reply_token, \"Eneter performance\")\n",
    "\n",
    "    def on_enter_state_intro(self,event):\n",
    "        print(\"I'm entering intro\",self.current_model)\n",
    "        reply_token = event.reply_token\n",
    "        send_text_message(reply_token, \"Eneter intro\")\n",
    "    def on_enter_state_stock_list(self,event):\n",
    "        print(\"I'm entering stock_list\",self.current_model)\n",
    "        reply_token = event.reply_token\n",
    "        send_text_message(reply_token, \"Eneter stock list\")\n",
    "\n",
    "\n",
    "\n",
    "\n",
    "    #\n",
    "    # def on_exit_state1(self):\n",
    "    #     print(\"Leaving state1\")\n",
    "    #\n",
    "    # def on_enter_state2(self, event):\n",
    "    #     print(\"I'm entering state2\")\n",
    "    #\n",
    "    #     reply_token = event.reply_token\n",
    "    #     send_text_message(reply_token, \"Trigger state2\")\n",
    "    #     self.go_back()\n",
    "    #\n",
    "    # def on_exit_state2(self):\n",
    "    #     print(\"Leaving state2\")"
   ]
  },
  {
   "cell_type": "code",
   "execution_count": 3,
   "metadata": {},
   "outputs": [],
   "source": [
    "states = [\"user\",\"state_cat\",\"state_cat_show\",\"state_cat_dog\",\"state_judge\",\"state_fsm\",\"state_stock\",\"state_Tw50\",\"state_RL\",\"state_performance\",\"state_stock_list\",\"state_intro\"]\n",
    "transitions = [\n",
    "    {\n",
    "        \"trigger\": \"advance\",\n",
    "        \"source\": [\"user\"],\n",
    "        \"dest\": \"state_cat\",\n",
    "        \"conditions\": \"going_to_state_cat\",\n",
    "    },\n",
    "    {\n",
    "        \"trigger\": \"advance\",\n",
    "        \"source\": [\"state_cat\"],\n",
    "        \"dest\": \"user\",\n",
    "        \"conditions\": \"back_to_pre_state\",\n",
    "    },\n",
    "    {\n",
    "        \"trigger\": \"advance\",\n",
    "        \"source\": [\"state_cat\",\"state_cat_show\"],\n",
    "        \"dest\": \"state_cat_show\",\n",
    "        \"conditions\": \"going_to_state_cat\",\n",
    "    },\n",
    "    {\n",
    "        \"trigger\": \"advance\",\n",
    "        \"source\": [\"state_cat\",\"state_judge\"],\n",
    "        \"dest\": \"state_cat_dog\",\n",
    "        \"conditions\": \"going_to_state_cat_dog\",\n",
    "    },\n",
    "    {\n",
    "        \"trigger\": \"advance\",\n",
    "        \"source\": [\"state_cat_dog\"],\n",
    "        \"dest\": \"state_judge\",\n",
    "\n",
    "    },\n",
    "    {\n",
    "        \"trigger\": \"advance\",\n",
    "        \"source\": [\"state_judge\"],\n",
    "        \"dest\": \"state_cat\",\n",
    "        \"conditions\": \"back_to_pre_state\",\n",
    "    },\n",
    "    {\n",
    "        \"trigger\": \"advance\",\n",
    "        \"source\": [\"state_cat_show\",\"state_cat_dog\"],\n",
    "        \"dest\": \"state_cat\",\n",
    "        \"conditions\": \"back_to_pre_state\",\n",
    "    },\n",
    "    {\n",
    "        \"trigger\":\"advance\",\n",
    "        \"source\":\"user\",\n",
    "        \"dest\":\"state_stock\",\n",
    "        \"conditions\":\"going_to_state_stock\",\n",
    "    },\n",
    "    {\n",
    "        \"trigger\": \"advance\",\n",
    "        \"source\": \"user\",\n",
    "        \"dest\": \"state_fsm\",\n",
    "        \"conditions\": \"going_to_state_fsm\",\n",
    "    },\n",
    "    {\n",
    "        \"trigger\":\"advance\",\n",
    "        \"source\":\"state_stock\",\n",
    "        \"dest\":\"state_Tw50\",\n",
    "        \"conditions\":\"going_to_state_Tw50\",\n",
    "    },\n",
    "    {\n",
    "        \"trigger\":\"advance\",\n",
    "        \"source\":\"state_stock\",\n",
    "        \"dest\":\"state_RL\",\n",
    "        \"conditions\":\"going_to_state_RL\",\n",
    "    },\n",
    "    {\n",
    "        \"trigger\": \"advance\",\n",
    "        \"source\": \"state_Tw50\",\n",
    "        \"dest\": \"state_stock\",\n",
    "        \"conditions\":\"back_to_pre_state\",\n",
    "    },\n",
    "    {\n",
    "        \"trigger\": \"advance\",\n",
    "        \"source\": \"state_RL\",\n",
    "        \"dest\": \"state_stock\",\n",
    "        \"conditions\": \"back_to_pre_state\",\n",
    "    },\n",
    "\n",
    "    {\n",
    "        \"trigger\": \"advance\",\n",
    "        \"source\": \"state_stock\",\n",
    "        \"dest\": \"user\",\n",
    "        \"conditions\": \"back_to_pre_state\",\n",
    "    },\n",
    "    {\n",
    "        \"trigger\": \"go_back\",\n",
    "        \"source\": \"state_fsm\",\n",
    "        \"dest\": \"user\",\n",
    "    },\n",
    "    {\n",
    "        \"trigger\": \"advance\",\n",
    "        \"source\": \"state_Tw50\",\n",
    "        \"dest\": \"state_performance\",\n",
    "        \"conditions\": \"going_to_state_performance\",\n",
    "    },\n",
    "    {\n",
    "        \"trigger\": \"advance\",\n",
    "        \"source\": \"state_Tw50\",\n",
    "        \"dest\": \"state_intro\",\n",
    "        \"conditions\": \"going_to_state_intro\",\n",
    "    },\n",
    "    {\n",
    "        \"trigger\": \"advance\",\n",
    "        \"source\": \"state_Tw50\",\n",
    "        \"dest\": \"state_stock_list\",\n",
    "        \"conditions\": \"going_to_state_stock_list\",\n",
    "    },\n",
    "    {\n",
    "        \"trigger\": \"advance\",\n",
    "        \"source\": [\"state_performance\", \"state_stock_list\", \"state_intro\"],\n",
    "        \"dest\": \"state_Tw50\",\n",
    "        \"conditions\": \"back_to_tw\",\n",
    "    },\n",
    "\n",
    "    {\n",
    "        \"trigger\": \"advance\",\n",
    "        \"source\": \"state_RL\",\n",
    "        \"dest\": \"state_performance\",\n",
    "        \"conditions\": \"going_to_state_performance\",\n",
    "    },\n",
    "    {\n",
    "        \"trigger\": \"advance\",\n",
    "        \"source\": \"state_RL\",\n",
    "        \"dest\": \"state_intro\",\n",
    "        \"conditions\": \"going_to_state_intro\",\n",
    "    },\n",
    "    {\n",
    "        \"trigger\": \"advance\",\n",
    "        \"source\": \"state_RL\",\n",
    "        \"dest\": \"state_stock_list\",\n",
    "        \"conditions\": \"going_to_state_stock_list\",\n",
    "    },\n",
    "    {\n",
    "        \"trigger\": \"advance\",\n",
    "        \"source\": [\"state_performance\", \"state_stock_list\", \"state_intro\"],\n",
    "        \"dest\": \"state_RL\",\n",
    "        \"conditions\": \"back_to_rl\",\n",
    "    },\n",
    "]\n",
    "\n",
    "machine = TocMachine(states=states, transitions=transitions, initial=\"user\", auto_transitions=False, show_conditions=True)\n",
    "machine.get_graph().draw('my_state_diagram.png', prog='dot')"
   ]
  },
  {
   "cell_type": "code",
   "execution_count": 5,
   "metadata": {},
   "outputs": [
    {
     "name": "stdout",
     "output_type": "stream",
     "text": [
      "0 1\n",
      "1 1\n",
      "2 1\n"
     ]
    }
   ],
   "source": [
    "li=[1,1,1]\n",
    "for num,ele in enumerate(li):\n",
    "    print(num,ele)"
   ]
  },
  {
   "cell_type": "code",
   "execution_count": 13,
   "metadata": {},
   "outputs": [
    {
     "name": "stdout",
     "output_type": "stream",
     "text": [
      "None\n"
     ]
    }
   ],
   "source": [
    "import requests,json\n",
    "code=\"0050\"\n",
    "url=\"http://finance.google.com/finance/info\"\n",
    "stack_code = \"TPE:{0}\".format(code)\n",
    "params = {\"client\":\"ig\", \"q\":stack_code}\n",
    "try:\n",
    "    r = requests.get(url, params = params )\n",
    "    r_slipt = r.text[3:] #remove '//'\n",
    "    data = json.loads(r_slipt)\n",
    "except ValueError as e:\n",
    "    data = 'None'\n",
    "print(data)"
   ]
  },
  {
   "cell_type": "code",
   "execution_count": 15,
   "metadata": {},
   "outputs": [
    {
     "name": "stdout",
     "output_type": "stream",
     "text": [
      "TPE:0050\n"
     ]
    }
   ],
   "source": [
    "print(stack_code)"
   ]
  },
  {
   "cell_type": "code",
   "execution_count": 24,
   "metadata": {},
   "outputs": [],
   "source": [
    "from IPython.display import display, clear_output\n",
    "from urllib.request import urlopen\n",
    "import pandas as pd\n",
    "import datetime\n",
    "import requests\n",
    "import sched\n",
    "import time\n",
    "import json\n",
    "\n",
    "# s = sched.scheduler(time.time, time.sleep)\n",
    "def tableColor(val):\n",
    "    if val > 0:\n",
    "        color = 'red'\n",
    "    elif val < 0:\n",
    "        color = 'green'\n",
    "    else:\n",
    "        color = 'white'\n",
    "    return 'color: %s' % color"
   ]
  },
  {
   "cell_type": "code",
   "execution_count": 30,
   "metadata": {},
   "outputs": [
    {
     "name": "stdout",
     "output_type": "stream",
     "text": [
      "更新時間:10:23\n"
     ]
    },
    {
     "data": {
      "text/html": [
       "<style  type=\"text/css\" >\n",
       "#T_4ae28440_3db3_11eb_a803_5ed15da7e1cdrow0_col9,#T_4ae28440_3db3_11eb_a803_5ed15da7e1cdrow1_col9,#T_4ae28440_3db3_11eb_a803_5ed15da7e1cdrow2_col9,#T_4ae28440_3db3_11eb_a803_5ed15da7e1cdrow3_col9{\n",
       "            color:  white;\n",
       "        }</style><table id=\"T_4ae28440_3db3_11eb_a803_5ed15da7e1cd\" ><thead>    <tr>        <th class=\"blank level0\" ></th>        <th class=\"col_heading level0 col0\" >股票代號</th>        <th class=\"col_heading level0 col1\" >公司簡稱</th>        <th class=\"col_heading level0 col2\" >當盤成交價</th>        <th class=\"col_heading level0 col3\" >當盤成交量</th>        <th class=\"col_heading level0 col4\" >累積成交量</th>        <th class=\"col_heading level0 col5\" >開盤價</th>        <th class=\"col_heading level0 col6\" >最高價</th>        <th class=\"col_heading level0 col7\" >最低價</th>        <th class=\"col_heading level0 col8\" >昨收價</th>        <th class=\"col_heading level0 col9\" >漲跌百分比</th>    </tr></thead><tbody>\n",
       "                <tr>\n",
       "                        <th id=\"T_4ae28440_3db3_11eb_a803_5ed15da7e1cdlevel0_row0\" class=\"row_heading level0 row0\" >0</th>\n",
       "                        <td id=\"T_4ae28440_3db3_11eb_a803_5ed15da7e1cdrow0_col0\" class=\"data row0 col0\" >1101</td>\n",
       "                        <td id=\"T_4ae28440_3db3_11eb_a803_5ed15da7e1cdrow0_col1\" class=\"data row0 col1\" >台泥</td>\n",
       "                        <td id=\"T_4ae28440_3db3_11eb_a803_5ed15da7e1cdrow0_col2\" class=\"data row0 col2\" >-</td>\n",
       "                        <td id=\"T_4ae28440_3db3_11eb_a803_5ed15da7e1cdrow0_col3\" class=\"data row0 col3\" >-</td>\n",
       "                        <td id=\"T_4ae28440_3db3_11eb_a803_5ed15da7e1cdrow0_col4\" class=\"data row0 col4\" >4800</td>\n",
       "                        <td id=\"T_4ae28440_3db3_11eb_a803_5ed15da7e1cdrow0_col5\" class=\"data row0 col5\" >42.9000</td>\n",
       "                        <td id=\"T_4ae28440_3db3_11eb_a803_5ed15da7e1cdrow0_col6\" class=\"data row0 col6\" >42.9000</td>\n",
       "                        <td id=\"T_4ae28440_3db3_11eb_a803_5ed15da7e1cdrow0_col7\" class=\"data row0 col7\" >42.7000</td>\n",
       "                        <td id=\"T_4ae28440_3db3_11eb_a803_5ed15da7e1cdrow0_col8\" class=\"data row0 col8\" >42.9000</td>\n",
       "                        <td id=\"T_4ae28440_3db3_11eb_a803_5ed15da7e1cdrow0_col9\" class=\"data row0 col9\" >0.000000</td>\n",
       "            </tr>\n",
       "            <tr>\n",
       "                        <th id=\"T_4ae28440_3db3_11eb_a803_5ed15da7e1cdlevel0_row1\" class=\"row_heading level0 row1\" >1</th>\n",
       "                        <td id=\"T_4ae28440_3db3_11eb_a803_5ed15da7e1cdrow1_col0\" class=\"data row1 col0\" >1102</td>\n",
       "                        <td id=\"T_4ae28440_3db3_11eb_a803_5ed15da7e1cdrow1_col1\" class=\"data row1 col1\" >亞泥</td>\n",
       "                        <td id=\"T_4ae28440_3db3_11eb_a803_5ed15da7e1cdrow1_col2\" class=\"data row1 col2\" >-</td>\n",
       "                        <td id=\"T_4ae28440_3db3_11eb_a803_5ed15da7e1cdrow1_col3\" class=\"data row1 col3\" >-</td>\n",
       "                        <td id=\"T_4ae28440_3db3_11eb_a803_5ed15da7e1cdrow1_col4\" class=\"data row1 col4\" >1853</td>\n",
       "                        <td id=\"T_4ae28440_3db3_11eb_a803_5ed15da7e1cdrow1_col5\" class=\"data row1 col5\" >43.1000</td>\n",
       "                        <td id=\"T_4ae28440_3db3_11eb_a803_5ed15da7e1cdrow1_col6\" class=\"data row1 col6\" >43.3000</td>\n",
       "                        <td id=\"T_4ae28440_3db3_11eb_a803_5ed15da7e1cdrow1_col7\" class=\"data row1 col7\" >42.8500</td>\n",
       "                        <td id=\"T_4ae28440_3db3_11eb_a803_5ed15da7e1cdrow1_col8\" class=\"data row1 col8\" >43.1000</td>\n",
       "                        <td id=\"T_4ae28440_3db3_11eb_a803_5ed15da7e1cdrow1_col9\" class=\"data row1 col9\" >0.000000</td>\n",
       "            </tr>\n",
       "            <tr>\n",
       "                        <th id=\"T_4ae28440_3db3_11eb_a803_5ed15da7e1cdlevel0_row2\" class=\"row_heading level0 row2\" >2</th>\n",
       "                        <td id=\"T_4ae28440_3db3_11eb_a803_5ed15da7e1cdrow2_col0\" class=\"data row2 col0\" >1103</td>\n",
       "                        <td id=\"T_4ae28440_3db3_11eb_a803_5ed15da7e1cdrow2_col1\" class=\"data row2 col1\" >嘉泥</td>\n",
       "                        <td id=\"T_4ae28440_3db3_11eb_a803_5ed15da7e1cdrow2_col2\" class=\"data row2 col2\" >-</td>\n",
       "                        <td id=\"T_4ae28440_3db3_11eb_a803_5ed15da7e1cdrow2_col3\" class=\"data row2 col3\" >-</td>\n",
       "                        <td id=\"T_4ae28440_3db3_11eb_a803_5ed15da7e1cdrow2_col4\" class=\"data row2 col4\" >235</td>\n",
       "                        <td id=\"T_4ae28440_3db3_11eb_a803_5ed15da7e1cdrow2_col5\" class=\"data row2 col5\" >17.9000</td>\n",
       "                        <td id=\"T_4ae28440_3db3_11eb_a803_5ed15da7e1cdrow2_col6\" class=\"data row2 col6\" >17.9500</td>\n",
       "                        <td id=\"T_4ae28440_3db3_11eb_a803_5ed15da7e1cdrow2_col7\" class=\"data row2 col7\" >17.9000</td>\n",
       "                        <td id=\"T_4ae28440_3db3_11eb_a803_5ed15da7e1cdrow2_col8\" class=\"data row2 col8\" >17.9500</td>\n",
       "                        <td id=\"T_4ae28440_3db3_11eb_a803_5ed15da7e1cdrow2_col9\" class=\"data row2 col9\" >0.000000</td>\n",
       "            </tr>\n",
       "            <tr>\n",
       "                        <th id=\"T_4ae28440_3db3_11eb_a803_5ed15da7e1cdlevel0_row3\" class=\"row_heading level0 row3\" >3</th>\n",
       "                        <td id=\"T_4ae28440_3db3_11eb_a803_5ed15da7e1cdrow3_col0\" class=\"data row3 col0\" >2330</td>\n",
       "                        <td id=\"T_4ae28440_3db3_11eb_a803_5ed15da7e1cdrow3_col1\" class=\"data row3 col1\" >台積電</td>\n",
       "                        <td id=\"T_4ae28440_3db3_11eb_a803_5ed15da7e1cdrow3_col2\" class=\"data row3 col2\" >-</td>\n",
       "                        <td id=\"T_4ae28440_3db3_11eb_a803_5ed15da7e1cdrow3_col3\" class=\"data row3 col3\" >-</td>\n",
       "                        <td id=\"T_4ae28440_3db3_11eb_a803_5ed15da7e1cdrow3_col4\" class=\"data row3 col4\" >11586</td>\n",
       "                        <td id=\"T_4ae28440_3db3_11eb_a803_5ed15da7e1cdrow3_col5\" class=\"data row3 col5\" >512.0000</td>\n",
       "                        <td id=\"T_4ae28440_3db3_11eb_a803_5ed15da7e1cdrow3_col6\" class=\"data row3 col6\" >513.0000</td>\n",
       "                        <td id=\"T_4ae28440_3db3_11eb_a803_5ed15da7e1cdrow3_col7\" class=\"data row3 col7\" >508.0000</td>\n",
       "                        <td id=\"T_4ae28440_3db3_11eb_a803_5ed15da7e1cdrow3_col8\" class=\"data row3 col8\" >516.0000</td>\n",
       "                        <td id=\"T_4ae28440_3db3_11eb_a803_5ed15da7e1cdrow3_col9\" class=\"data row3 col9\" >0.000000</td>\n",
       "            </tr>\n",
       "    </tbody></table>"
      ],
      "text/plain": [
       "<pandas.io.formats.style.Styler at 0x15e35f3af60>"
      ]
     },
     "metadata": {},
     "output_type": "display_data"
    }
   ],
   "source": [
    "stock_crawler(stock_list)"
   ]
  },
  {
   "cell_type": "code",
   "execution_count": 11,
   "metadata": {},
   "outputs": [
    {
     "name": "stdout",
     "output_type": "stream",
     "text": [
      "https://cdn2.thecatapi.com/images/9b0.jpg\n"
     ]
    }
   ],
   "source": [
    "import requests\n",
    "data=requests.get('https://api.thecatapi.com/v1/images/search')\n",
    "print(data.json()[0]['url']) "
   ]
  },
  {
   "cell_type": "code",
   "execution_count": 5,
   "metadata": {},
   "outputs": [
    {
     "name": "stdout",
     "output_type": "stream",
     "text": [
      "[{'breeds': [], 'id': 'cmi', 'url': 'https://cdn2.thecatapi.com/images/cmi.gif', 'width': 499, 'height': 268}]\n"
     ]
    }
   ],
   "source": [
    "print(data.json()) "
   ]
  },
  {
   "cell_type": "code",
   "execution_count": 10,
   "metadata": {},
   "outputs": [
    {
     "data": {
      "text/plain": [
       "list"
      ]
     },
     "execution_count": 10,
     "metadata": {},
     "output_type": "execute_result"
    }
   ],
   "source": [
    "type(data.json())"
   ]
  },
  {
   "cell_type": "code",
   "execution_count": null,
   "metadata": {},
   "outputs": [],
   "source": []
  }
 ],
 "metadata": {
  "kernelspec": {
   "display_name": "Python 3",
   "language": "python",
   "name": "python3"
  },
  "language_info": {
   "codemirror_mode": {
    "name": "ipython",
    "version": 3
   },
   "file_extension": ".py",
   "mimetype": "text/x-python",
   "name": "python",
   "nbconvert_exporter": "python",
   "pygments_lexer": "ipython3",
   "version": "3.7.3"
  }
 },
 "nbformat": 4,
 "nbformat_minor": 2
}
