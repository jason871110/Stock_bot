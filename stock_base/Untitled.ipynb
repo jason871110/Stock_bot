{
 "cells": [
  {
   "cell_type": "code",
   "execution_count": 3,
   "metadata": {},
   "outputs": [],
   "source": [
    "from transitions.extensions import GraphMachine\n",
    "\n",
    "# from stock_base.utils import send_text_message\n",
    "\n",
    "\n",
    "class TocMachine(GraphMachine):\n",
    "    def __init__(self, **machine_configs):\n",
    "        self.machine = GraphMachine(model=self, **machine_configs)\n",
    "\n",
    "    def going_to_state_fsm(self,event):\n",
    "        text = event.message.text\n",
    "        return text.lower() == \"fsm\"\n",
    "    def going_to_state_stock(self,event):\n",
    "        text = event.message.text\n",
    "        return text.lower() == \"stock\"\n",
    "    def going_to_state_Tw50(self,event):\n",
    "        text = event.message.text\n",
    "        return text.lower() == \"tw50\"\n",
    "    def going_to_state_RL(self,event):\n",
    "        print()\n",
    "    def going_to_state_performance(self,event):\n",
    "        text = event.message.text\n",
    "        return text.lower() == \"performance\"\n",
    "    def going_to_state_intro(self,event):\n",
    "        print()\n",
    "    def going_to_state_strategy(self,event):\n",
    "        print()\n",
    "\n",
    "    def back_to_pre_state(self, event):\n",
    "        text = event.message.text\n",
    "        return text.lower() == \"back\"\n",
    "\n",
    "    def on_enter_state_fsm(self,event):\n",
    "        print(\"I'm entering state_fsm\")\n",
    "        image=self.get_graph().draw(\"fsm.png\", prog=\"dot\", format=\"png\")\n",
    "        self.go_back()\n",
    "\n",
    "    def on_enter_state_stock(self,event):\n",
    "        print(\"I'm entering state_stock\")\n",
    "        reply_token = event.reply_token\n",
    "#         send_text_message(reply_token, \"Eneter stock state\")\n",
    "\n",
    "    def on_enter_state_Tw50(self,event):\n",
    "        print(\"I'm entering Tw50\")\n",
    "        reply_token = event.reply_token\n",
    "#         send_text_message(reply_token, \"Eneter Tw50\")\n",
    "\n",
    "    def on_enter_state_performance(self,event):\n",
    "        print(\"I'm entering performance\")\n",
    "        reply_token = event.reply_token\n",
    "#         send_text_message(reply_token, \"Eneter performance\")\n"
   ]
  },
  {
   "cell_type": "code",
   "execution_count": 4,
   "metadata": {},
   "outputs": [],
   "source": [
    "states = [\"user\",\"state_fsm\",\"state_stock\",\"state_Tw50\",\"state_performance\"]\n",
    "transitions = [\n",
    "    {\n",
    "        \"trigger\":\"advance\",\n",
    "        \"source\":\"user\",\n",
    "        \"dest\":\"state_stock\",\n",
    "        \"conditions\":\"going_to_state_stock\",\n",
    "    },\n",
    "    {\n",
    "        \"trigger\": \"advance\",\n",
    "        \"source\": \"user\",\n",
    "        \"dest\": \"state_fsm\",\n",
    "        \"conditions\": \"going_to_state_fsm\",\n",
    "    },\n",
    "    {\n",
    "        \"trigger\":\"advance\",\n",
    "        \"source\":\"state_stock\",\n",
    "        \"dest\":\"state_Tw50\",\n",
    "        \"conditions\":\"going_to_state_Tw50\",\n",
    "    },\n",
    "    {\n",
    "        \"trigger\":\"advance\",\n",
    "        \"source\":\"state_Tw50\",\n",
    "        \"dest\":\"state_performance\",\n",
    "        \"conditions\":\"going_to_state_performance\",\n",
    "    },\n",
    "    {\n",
    "        \"trigger\":\"advance\",\n",
    "        \"source\":\"state_performance\",\n",
    "        \"dest\":\"state_Tw50\",\n",
    "        \"conditions\":\"back_to_pre_state\",\n",
    "    },\n",
    "    {\n",
    "        \"trigger\": \"advance\",\n",
    "        \"source\": \"state_Tw50\",\n",
    "        \"dest\": \"state_stock\",\n",
    "        \"conditions\":\"back_to_pre_state\",\n",
    "    },\n",
    "    {\n",
    "        \"trigger\": \"advance\",\n",
    "        \"source\": \"state_stock\",\n",
    "        \"dest\": \"user\",\n",
    "        \"conditions\": \"back_to_pre_state\",\n",
    "    },\n",
    "    {\n",
    "        \"trigger\": \"go_back\",\n",
    "        \"source\": \"state_fsm\",\n",
    "        \"dest\": \"user\",\n",
    "    },\n",
    "]\n",
    "machine = TocMachine(states=states, transitions=transitions, initial=\"user\", auto_transitions=False, show_conditions=True)\n",
    "machine.get_graph().draw('my_state_diagram.png', prog='dot')"
   ]
  },
  {
   "cell_type": "code",
   "execution_count": 5,
   "metadata": {},
   "outputs": [
    {
     "name": "stdout",
     "output_type": "stream",
     "text": [
      "0 1\n",
      "1 1\n",
      "2 1\n"
     ]
    }
   ],
   "source": [
    "li=[1,1,1]\n",
    "for num,ele in enumerate(li):\n",
    "    print(num,ele)"
   ]
  },
  {
   "cell_type": "code",
   "execution_count": 6,
   "metadata": {},
   "outputs": [],
   "source": [
    "li.append(10)"
   ]
  },
  {
   "cell_type": "code",
   "execution_count": 7,
   "metadata": {},
   "outputs": [
    {
     "data": {
      "text/plain": [
       "[1, 1, 1, 10]"
      ]
     },
     "execution_count": 7,
     "metadata": {},
     "output_type": "execute_result"
    }
   ],
   "source": [
    "li"
   ]
  },
  {
   "cell_type": "code",
   "execution_count": null,
   "metadata": {},
   "outputs": [],
   "source": []
  }
 ],
 "metadata": {
  "kernelspec": {
   "display_name": "Python 3",
   "language": "python",
   "name": "python3"
  },
  "language_info": {
   "codemirror_mode": {
    "name": "ipython",
    "version": 3
   },
   "file_extension": ".py",
   "mimetype": "text/x-python",
   "name": "python",
   "nbconvert_exporter": "python",
   "pygments_lexer": "ipython3",
   "version": "3.7.3"
  }
 },
 "nbformat": 4,
 "nbformat_minor": 2
}
